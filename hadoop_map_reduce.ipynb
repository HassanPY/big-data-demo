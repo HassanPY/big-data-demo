{
  "cells": [
    {
      "cell_type": "markdown",
      "source": [
        "Inspired by the work Shahid Khans"
      ],
      "metadata": {
        "id": "6j-Qtd3_e2wQ"
      }
    },
    {
      "cell_type": "markdown",
      "metadata": {
        "id": "5Vy63bvmdM1b"
      },
      "source": [
        "# Map Reduce program using python\n",
        "\n",
        "![image.png](attachment:/content/image.png)"
      ]
    },
    {
      "cell_type": "code",
      "execution_count": 12,
      "metadata": {
        "colab": {
          "base_uri": "https://localhost:8080/"
        },
        "id": "oLYSv3RXdM1f",
        "outputId": "cd77111d-1fc4-4350-b157-010cfe58c7d0"
      },
      "outputs": [
        {
          "output_type": "stream",
          "name": "stdout",
          "text": [
            "Overwriting mapper.py\n"
          ]
        }
      ],
      "source": [
        "%%writefile mapper.py\n",
        "import sys\n",
        "\n",
        "for line in sys.stdin:\n",
        "    for word in line.split():\n",
        "        print('%s\\t%s' % (word, 1))"
      ]
    },
    {
      "cell_type": "markdown",
      "source": [
        "%%writefile mapper.py:\n",
        "\n",
        "This is a magic command in Jupyter notebooks that writes the following code to a file named mapper.py. If you're running this in a script or other environment, you would remove this line.\n",
        "\n",
        "**import sys:**\n",
        "Imports the sys module, which provides access to some variables used or maintained by the interpreter and to functions that interact strongly with the interpreter.\n",
        "\n",
        "**for line in sys.stdin::**\n",
        "\n",
        "Iterates over each line of input from the standard input (sys.stdin). In the context of a MapReduce job, sys.stdin would be connected to the input data stream.\n",
        "\n",
        "**for word in line.split()::**\n",
        "\n",
        "For each line, splits the line into words using the split() method, which splits the line at whitespace (spaces, tabs, etc.).\n",
        "Iterates over each word in the split line.\n",
        "\n",
        "**print('%s\\t%s' % (word, 1)):**\n",
        "\n",
        "Prints each word followed by a tab character (\\t) and the number 1. This format is a common way to produce key-value pairs for MapReduce jobs.\n",
        "In this case, each word is the key, and 1 is the value, indicating that the word has been seen once."
      ],
      "metadata": {
        "id": "Aa77UylRoI_p"
      }
    },
    {
      "cell_type": "code",
      "execution_count": 4,
      "metadata": {
        "colab": {
          "base_uri": "https://localhost:8080/"
        },
        "id": "pEImSLvzdM1h",
        "outputId": "13bc44d3-2628-4d2e-d3b1-3b14ef5986a0"
      },
      "outputs": [
        {
          "output_type": "stream",
          "name": "stdout",
          "text": [
            "Writing reducer.py\n"
          ]
        }
      ],
      "source": [
        "%%writefile reducer.py\n",
        "from operator import itemgetter\n",
        "import sys\n",
        "\n",
        "## map to count the word\n",
        "wordcounts = {}\n",
        "for line in sys.stdin:\n",
        "    word, count = line.strip().split('\\t')\n",
        "    try:\n",
        "        count = int (count)\n",
        "        wordcounts[word] = wordcounts.get(word, 0) + count\n",
        "    except ValueError:\n",
        "        pass\n",
        "wordcount_sort = sorted(wordcounts.items(), key=itemgetter(0))\n",
        "\n",
        "for word, count in wordcount_sort:\n",
        "    print('%s \\t %s'%(word, count))"
      ]
    },
    {
      "cell_type": "markdown",
      "source": [
        "**!echo \"orange banana ... \" | python mapper.py | python reducer.py**"
      ],
      "metadata": {
        "id": "lO05WmIgrXT-"
      }
    },
    {
      "cell_type": "code",
      "source": [
        "!echo \"orange banana tomato apple fruit fig orange banana apple fruit fig orange banana apple fruit fig\" | python mapper.py | python reducer.py"
      ],
      "metadata": {
        "colab": {
          "base_uri": "https://localhost:8080/"
        },
        "id": "lGZuHHEHeEuE",
        "outputId": "5fb4fc7d-6eeb-4ea3-c9b9-22e0ad54c42c"
      },
      "execution_count": 15,
      "outputs": [
        {
          "output_type": "stream",
          "name": "stdout",
          "text": [
            "apple \t 3\n",
            "banana \t 3\n",
            "fig \t 3\n",
            "fruit \t 3\n",
            "orange \t 3\n",
            "tomato \t 1\n"
          ]
        }
      ]
    }
  ],
  "metadata": {
    "kernelspec": {
      "display_name": "ovaip3810",
      "language": "python",
      "name": "python3"
    },
    "language_info": {
      "codemirror_mode": {
        "name": "ipython",
        "version": 3
      },
      "file_extension": ".py",
      "mimetype": "text/x-python",
      "name": "python",
      "nbconvert_exporter": "python",
      "pygments_lexer": "ipython3",
      "version": "3.8.10"
    },
    "orig_nbformat": 4,
    "vscode": {
      "interpreter": {
        "hash": "ca659fae9db07b464e48914d7cf68b911c2c7a3a6e6a869e9ca2fa3d8307cbc0"
      }
    },
    "colab": {
      "provenance": []
    }
  },
  "nbformat": 4,
  "nbformat_minor": 0
}